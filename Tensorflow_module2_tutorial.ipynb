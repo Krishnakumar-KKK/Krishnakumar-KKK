{
  "nbformat": 4,
  "nbformat_minor": 0,
  "metadata": {
    "colab": {
      "name": "Untitled0.ipynb",
      "provenance": [],
      "collapsed_sections": [],
      "authorship_tag": "ABX9TyO745Tx2ZhXDT7g6Vxi12xf",
      "include_colab_link": true
    },
    "kernelspec": {
      "name": "python3",
      "display_name": "Python 3"
    },
    "language_info": {
      "name": "python"
    }
  },
  "cells": [
    {
      "cell_type": "markdown",
      "metadata": {
        "id": "view-in-github",
        "colab_type": "text"
      },
      "source": [
        "<a href=\"https://colab.research.google.com/github/Krishnakumar-KKK/Krishnakumar-KKK/blob/main/Tensorflow_module2_tutorial.ipynb\" target=\"_parent\"><img src=\"https://colab.research.google.com/assets/colab-badge.svg\" alt=\"Open In Colab\"/></a>"
      ]
    },
    {
      "cell_type": "code",
      "execution_count": 1,
      "metadata": {
        "colab": {
          "base_uri": "https://localhost:8080/"
        },
        "id": "omtcMM_9PIbv",
        "outputId": "7d787c99-f4c6-4ec5-da44-bb45ec95c0c2"
      },
      "outputs": [
        {
          "output_type": "stream",
          "name": "stdout",
          "text": [
            "<module 'tensorflow._api.v2.version' from '/usr/local/lib/python3.7/dist-packages/tensorflow/_api/v2/version/__init__.py'>\n"
          ]
        }
      ],
      "source": [
        "%tensorflow_version 2.x\n",
        "import tensorflow as tf \n",
        "print(tf.version)"
      ]
    },
    {
      "cell_type": "code",
      "source": [
        "string = tf.Variable(\"This is a string\",tf.string)\n",
        "number = tf.Variable(101,tf.int16)\n",
        "floating = tf.Variable(5.01,tf.float64)\n",
        "\n",
        "rank1_string =  tf.Variable([\"This is a string\",\"jhfjdkk\"],tf.string)\n",
        "rank2_string =  tf.Variable([[\"This is a string\",\"jhfjdkk\"],['kk','kk1']],tf.string)"
      ],
      "metadata": {
        "id": "x1W98r0q7wjn"
      },
      "execution_count": 7,
      "outputs": []
    },
    {
      "cell_type": "code",
      "source": [
        "tf.rank(rank1_string)"
      ],
      "metadata": {
        "colab": {
          "base_uri": "https://localhost:8080/"
        },
        "id": "wWGRJOik-Gg9",
        "outputId": "ebfa55ff-216f-48f5-f127-c61f5ff80673"
      },
      "execution_count": 8,
      "outputs": [
        {
          "output_type": "execute_result",
          "data": {
            "text/plain": [
              "<tf.Tensor: shape=(), dtype=int32, numpy=1>"
            ]
          },
          "metadata": {},
          "execution_count": 8
        }
      ]
    },
    {
      "cell_type": "code",
      "source": [
        "rank2_string.shape"
      ],
      "metadata": {
        "colab": {
          "base_uri": "https://localhost:8080/"
        },
        "id": "8X_C55pT-tUl",
        "outputId": "ec377752-b287-4a2f-f9ee-1008f21e68a9"
      },
      "execution_count": 11,
      "outputs": [
        {
          "output_type": "execute_result",
          "data": {
            "text/plain": [
              "TensorShape([2, 2])"
            ]
          },
          "metadata": {},
          "execution_count": 11
        }
      ]
    },
    {
      "cell_type": "markdown",
      "source": [
        "**Reshaping Examples**\n",
        "\n",
        "\n"
      ],
      "metadata": {
        "id": "2uyNvmunAlEs"
      }
    },
    {
      "cell_type": "code",
      "source": [
        "vector1 = tf.Variable([[[1,2,3,4,5,6]]],tf.int16)\n",
        "print(vector1.shape)\n",
        "vector2 = tf.reshape(vector1,[2,3])\n",
        "vector3= tf.reshape(vector2,[2,-1])\n",
        "print('VEctor 2',vector2)\n",
        "print('VEctor 3',vector3)"
      ],
      "metadata": {
        "id": "QDlDvhxlPi5h",
        "colab": {
          "base_uri": "https://localhost:8080/"
        },
        "outputId": "269e1e61-19d1-40a6-8d24-4943b8a15eba"
      },
      "execution_count": 18,
      "outputs": [
        {
          "output_type": "stream",
          "name": "stdout",
          "text": [
            "(1, 1, 6)\n",
            "VEctor 2 tf.Tensor(\n",
            "[[1 2 3]\n",
            " [4 5 6]], shape=(2, 3), dtype=int32)\n",
            "VEctor 3 tf.Tensor(\n",
            "[[1 2 3]\n",
            " [4 5 6]], shape=(2, 3), dtype=int32)\n"
          ]
        }
      ]
    }
  ]
}
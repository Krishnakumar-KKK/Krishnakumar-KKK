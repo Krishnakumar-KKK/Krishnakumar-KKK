{
  "nbformat": 4,
  "nbformat_minor": 0,
  "metadata": {
    "colab": {
      "name": "Stock_price_prediction.ipynb",
      "provenance": [],
      "collapsed_sections": [],
      "authorship_tag": "ABX9TyMokilXTZ3cDJLENImsI7lM",
      "include_colab_link": true
    },
    "kernelspec": {
      "name": "python3",
      "display_name": "Python 3"
    },
    "language_info": {
      "name": "python"
    }
  },
  "cells": [
    {
      "cell_type": "markdown",
      "metadata": {
        "id": "view-in-github",
        "colab_type": "text"
      },
      "source": [
        "<a href=\"https://colab.research.google.com/github/Krishnakumar-KKK/Krishnakumar-KKK/blob/main/Stock_price_prediction.ipynb\" target=\"_parent\"><img src=\"https://colab.research.google.com/assets/colab-badge.svg\" alt=\"Open In Colab\"/></a>"
      ]
    },
    {
      "cell_type": "markdown",
      "source": [
        "**Stock Price predicting using past 60 days data**\n",
        "\n",
        "\n",
        "> Using LSTM Recurrent Neural network - It uses sequential input data work with the Feed back using sequence of data- Input --> Encoder --> Decoder --> Dense--> Output\n",
        "\n"
      ],
      "metadata": {
        "id": "1dbnBrcJFiya"
      }
    },
    {
      "cell_type": "code",
      "source": [
        "!pip install -q sklearn\n"
      ],
      "metadata": {
        "id": "4Y-RAnSHIAk9"
      },
      "execution_count": 3,
      "outputs": []
    },
    {
      "cell_type": "code",
      "source": [
        "%tensorflow_version 2.x"
      ],
      "metadata": {
        "id": "YvUmzqTtILWc"
      },
      "execution_count": 4,
      "outputs": []
    },
    {
      "cell_type": "code",
      "execution_count": 97,
      "metadata": {
        "id": "2EIxQoPmFgL4"
      },
      "outputs": [],
      "source": [
        "# import modules\n",
        "import numpy as np\n",
        "import math\n",
        "from keras.models import Sequential\n",
        "from keras.layers import LSTM,Dense\n",
        "import pandas_datareader as web\n",
        "import pandas as pd\n",
        "from sklearn.preprocessing import MinMaxScaler\n",
        "#import matplotlib.pyplot as plt,dates as mdates\n",
        "from matplotlib import pyplot as plt, dates as mdates\n",
        "from datetime import datetime as dt\n",
        "import os\n",
        "import matplotlib.dates as mdates\n",
        "plt.style.use('fivethirtyeight')\n"
      ]
    },
    {
      "cell_type": "code",
      "source": [
        "#df = web.DataReader('AAPL',data_source='yahoo', start='2012-01-01',end='2021-12-17')\n",
        "start = pd.to_datetime(['2012-01-01']).astype(int)[0]//10**9 # convert to unix timestamp.\n",
        "end = pd.to_datetime(['2021-12-31']).astype(int)[0]//10**9 # convert to unix timestamp.\n",
        "url = 'https://query1.finance.yahoo.com/v7/finance/download/' + 'AAPL' + '?period1=' + str(start) + '&period2=' + str(end) + '&interval=1d&events=history'\n",
        "df = pd.read_csv(url)\n",
        "#df =web.DataReader(\"AAPL\", \"av-daily\", start=datetime(2017, 2, 9),end=datetime(2017, 5, 24),api_key=os.getenv('ALPHAVANTAGE_API_KEY'))\n",
        "#df =web.get_data_tiingo('GOOG', api_key=os.getenv('TIINGO_API_KEY'))\n",
        "df"
      ],
      "metadata": {
        "colab": {
          "base_uri": "https://localhost:8080/",
          "height": 513
        },
        "id": "DCC24se9HPDf",
        "outputId": "9d8d3521-bd4d-4a0c-aa7f-cec5e722efeb"
      },
      "execution_count": 68,
      "outputs": [
        {
          "output_type": "stream",
          "name": "stderr",
          "text": [
            "/usr/local/lib/python3.7/dist-packages/ipykernel_launcher.py:2: FutureWarning: casting datetime64[ns] values to int64 with .astype(...) is deprecated and will raise in a future version. Use .view(...) instead.\n",
            "  \n",
            "/usr/local/lib/python3.7/dist-packages/ipykernel_launcher.py:3: FutureWarning: casting datetime64[ns] values to int64 with .astype(...) is deprecated and will raise in a future version. Use .view(...) instead.\n",
            "  This is separate from the ipykernel package so we can avoid doing imports until\n"
          ]
        },
        {
          "output_type": "execute_result",
          "data": {
            "text/html": [
              "\n",
              "  <div id=\"df-902c4433-356a-4084-ad25-f973d2339990\">\n",
              "    <div class=\"colab-df-container\">\n",
              "      <div>\n",
              "<style scoped>\n",
              "    .dataframe tbody tr th:only-of-type {\n",
              "        vertical-align: middle;\n",
              "    }\n",
              "\n",
              "    .dataframe tbody tr th {\n",
              "        vertical-align: top;\n",
              "    }\n",
              "\n",
              "    .dataframe thead th {\n",
              "        text-align: right;\n",
              "    }\n",
              "</style>\n",
              "<table border=\"1\" class=\"dataframe\">\n",
              "  <thead>\n",
              "    <tr style=\"text-align: right;\">\n",
              "      <th></th>\n",
              "      <th>Date</th>\n",
              "      <th>Open</th>\n",
              "      <th>High</th>\n",
              "      <th>Low</th>\n",
              "      <th>Close</th>\n",
              "      <th>Adj Close</th>\n",
              "      <th>Volume</th>\n",
              "    </tr>\n",
              "  </thead>\n",
              "  <tbody>\n",
              "    <tr>\n",
              "      <th>0</th>\n",
              "      <td>2012-01-03</td>\n",
              "      <td>14.621429</td>\n",
              "      <td>14.732143</td>\n",
              "      <td>14.607143</td>\n",
              "      <td>14.686786</td>\n",
              "      <td>12.575915</td>\n",
              "      <td>302220800</td>\n",
              "    </tr>\n",
              "    <tr>\n",
              "      <th>1</th>\n",
              "      <td>2012-01-04</td>\n",
              "      <td>14.642857</td>\n",
              "      <td>14.810000</td>\n",
              "      <td>14.617143</td>\n",
              "      <td>14.765714</td>\n",
              "      <td>12.643500</td>\n",
              "      <td>260022000</td>\n",
              "    </tr>\n",
              "    <tr>\n",
              "      <th>2</th>\n",
              "      <td>2012-01-05</td>\n",
              "      <td>14.819643</td>\n",
              "      <td>14.948214</td>\n",
              "      <td>14.738214</td>\n",
              "      <td>14.929643</td>\n",
              "      <td>12.783868</td>\n",
              "      <td>271269600</td>\n",
              "    </tr>\n",
              "    <tr>\n",
              "      <th>3</th>\n",
              "      <td>2012-01-06</td>\n",
              "      <td>14.991786</td>\n",
              "      <td>15.098214</td>\n",
              "      <td>14.972143</td>\n",
              "      <td>15.085714</td>\n",
              "      <td>12.917507</td>\n",
              "      <td>318292800</td>\n",
              "    </tr>\n",
              "    <tr>\n",
              "      <th>4</th>\n",
              "      <td>2012-01-09</td>\n",
              "      <td>15.196429</td>\n",
              "      <td>15.276786</td>\n",
              "      <td>15.048214</td>\n",
              "      <td>15.061786</td>\n",
              "      <td>12.897018</td>\n",
              "      <td>394024400</td>\n",
              "    </tr>\n",
              "    <tr>\n",
              "      <th>...</th>\n",
              "      <td>...</td>\n",
              "      <td>...</td>\n",
              "      <td>...</td>\n",
              "      <td>...</td>\n",
              "      <td>...</td>\n",
              "      <td>...</td>\n",
              "      <td>...</td>\n",
              "    </tr>\n",
              "    <tr>\n",
              "      <th>2511</th>\n",
              "      <td>2021-12-23</td>\n",
              "      <td>175.850006</td>\n",
              "      <td>176.850006</td>\n",
              "      <td>175.270004</td>\n",
              "      <td>176.279999</td>\n",
              "      <td>176.055695</td>\n",
              "      <td>68356600</td>\n",
              "    </tr>\n",
              "    <tr>\n",
              "      <th>2512</th>\n",
              "      <td>2021-12-27</td>\n",
              "      <td>177.089996</td>\n",
              "      <td>180.419998</td>\n",
              "      <td>177.070007</td>\n",
              "      <td>180.330002</td>\n",
              "      <td>180.100540</td>\n",
              "      <td>74919600</td>\n",
              "    </tr>\n",
              "    <tr>\n",
              "      <th>2513</th>\n",
              "      <td>2021-12-28</td>\n",
              "      <td>180.160004</td>\n",
              "      <td>181.330002</td>\n",
              "      <td>178.529999</td>\n",
              "      <td>179.289993</td>\n",
              "      <td>179.061859</td>\n",
              "      <td>79144300</td>\n",
              "    </tr>\n",
              "    <tr>\n",
              "      <th>2514</th>\n",
              "      <td>2021-12-29</td>\n",
              "      <td>179.330002</td>\n",
              "      <td>180.630005</td>\n",
              "      <td>178.139999</td>\n",
              "      <td>179.380005</td>\n",
              "      <td>179.151749</td>\n",
              "      <td>62348900</td>\n",
              "    </tr>\n",
              "    <tr>\n",
              "      <th>2515</th>\n",
              "      <td>2021-12-30</td>\n",
              "      <td>179.470001</td>\n",
              "      <td>180.570007</td>\n",
              "      <td>178.089996</td>\n",
              "      <td>178.199997</td>\n",
              "      <td>177.973251</td>\n",
              "      <td>59773000</td>\n",
              "    </tr>\n",
              "  </tbody>\n",
              "</table>\n",
              "<p>2516 rows × 7 columns</p>\n",
              "</div>\n",
              "      <button class=\"colab-df-convert\" onclick=\"convertToInteractive('df-902c4433-356a-4084-ad25-f973d2339990')\"\n",
              "              title=\"Convert this dataframe to an interactive table.\"\n",
              "              style=\"display:none;\">\n",
              "        \n",
              "  <svg xmlns=\"http://www.w3.org/2000/svg\" height=\"24px\"viewBox=\"0 0 24 24\"\n",
              "       width=\"24px\">\n",
              "    <path d=\"M0 0h24v24H0V0z\" fill=\"none\"/>\n",
              "    <path d=\"M18.56 5.44l.94 2.06.94-2.06 2.06-.94-2.06-.94-.94-2.06-.94 2.06-2.06.94zm-11 1L8.5 8.5l.94-2.06 2.06-.94-2.06-.94L8.5 2.5l-.94 2.06-2.06.94zm10 10l.94 2.06.94-2.06 2.06-.94-2.06-.94-.94-2.06-.94 2.06-2.06.94z\"/><path d=\"M17.41 7.96l-1.37-1.37c-.4-.4-.92-.59-1.43-.59-.52 0-1.04.2-1.43.59L10.3 9.45l-7.72 7.72c-.78.78-.78 2.05 0 2.83L4 21.41c.39.39.9.59 1.41.59.51 0 1.02-.2 1.41-.59l7.78-7.78 2.81-2.81c.8-.78.8-2.07 0-2.86zM5.41 20L4 18.59l7.72-7.72 1.47 1.35L5.41 20z\"/>\n",
              "  </svg>\n",
              "      </button>\n",
              "      \n",
              "  <style>\n",
              "    .colab-df-container {\n",
              "      display:flex;\n",
              "      flex-wrap:wrap;\n",
              "      gap: 12px;\n",
              "    }\n",
              "\n",
              "    .colab-df-convert {\n",
              "      background-color: #E8F0FE;\n",
              "      border: none;\n",
              "      border-radius: 50%;\n",
              "      cursor: pointer;\n",
              "      display: none;\n",
              "      fill: #1967D2;\n",
              "      height: 32px;\n",
              "      padding: 0 0 0 0;\n",
              "      width: 32px;\n",
              "    }\n",
              "\n",
              "    .colab-df-convert:hover {\n",
              "      background-color: #E2EBFA;\n",
              "      box-shadow: 0px 1px 2px rgba(60, 64, 67, 0.3), 0px 1px 3px 1px rgba(60, 64, 67, 0.15);\n",
              "      fill: #174EA6;\n",
              "    }\n",
              "\n",
              "    [theme=dark] .colab-df-convert {\n",
              "      background-color: #3B4455;\n",
              "      fill: #D2E3FC;\n",
              "    }\n",
              "\n",
              "    [theme=dark] .colab-df-convert:hover {\n",
              "      background-color: #434B5C;\n",
              "      box-shadow: 0px 1px 3px 1px rgba(0, 0, 0, 0.15);\n",
              "      filter: drop-shadow(0px 1px 2px rgba(0, 0, 0, 0.3));\n",
              "      fill: #FFFFFF;\n",
              "    }\n",
              "  </style>\n",
              "\n",
              "      <script>\n",
              "        const buttonEl =\n",
              "          document.querySelector('#df-902c4433-356a-4084-ad25-f973d2339990 button.colab-df-convert');\n",
              "        buttonEl.style.display =\n",
              "          google.colab.kernel.accessAllowed ? 'block' : 'none';\n",
              "\n",
              "        async function convertToInteractive(key) {\n",
              "          const element = document.querySelector('#df-902c4433-356a-4084-ad25-f973d2339990');\n",
              "          const dataTable =\n",
              "            await google.colab.kernel.invokeFunction('convertToInteractive',\n",
              "                                                     [key], {});\n",
              "          if (!dataTable) return;\n",
              "\n",
              "          const docLinkHtml = 'Like what you see? Visit the ' +\n",
              "            '<a target=\"_blank\" href=https://colab.research.google.com/notebooks/data_table.ipynb>data table notebook</a>'\n",
              "            + ' to learn more about interactive tables.';\n",
              "          element.innerHTML = '';\n",
              "          dataTable['output_type'] = 'display_data';\n",
              "          await google.colab.output.renderOutput(dataTable, element);\n",
              "          const docLink = document.createElement('div');\n",
              "          docLink.innerHTML = docLinkHtml;\n",
              "          element.appendChild(docLink);\n",
              "        }\n",
              "      </script>\n",
              "    </div>\n",
              "  </div>\n",
              "  "
            ],
            "text/plain": [
              "            Date        Open        High  ...       Close   Adj Close     Volume\n",
              "0     2012-01-03   14.621429   14.732143  ...   14.686786   12.575915  302220800\n",
              "1     2012-01-04   14.642857   14.810000  ...   14.765714   12.643500  260022000\n",
              "2     2012-01-05   14.819643   14.948214  ...   14.929643   12.783868  271269600\n",
              "3     2012-01-06   14.991786   15.098214  ...   15.085714   12.917507  318292800\n",
              "4     2012-01-09   15.196429   15.276786  ...   15.061786   12.897018  394024400\n",
              "...          ...         ...         ...  ...         ...         ...        ...\n",
              "2511  2021-12-23  175.850006  176.850006  ...  176.279999  176.055695   68356600\n",
              "2512  2021-12-27  177.089996  180.419998  ...  180.330002  180.100540   74919600\n",
              "2513  2021-12-28  180.160004  181.330002  ...  179.289993  179.061859   79144300\n",
              "2514  2021-12-29  179.330002  180.630005  ...  179.380005  179.151749   62348900\n",
              "2515  2021-12-30  179.470001  180.570007  ...  178.199997  177.973251   59773000\n",
              "\n",
              "[2516 rows x 7 columns]"
            ]
          },
          "metadata": {},
          "execution_count": 68
        }
      ]
    },
    {
      "cell_type": "code",
      "source": [
        "df.shape"
      ],
      "metadata": {
        "colab": {
          "base_uri": "https://localhost:8080/"
        },
        "id": "LvCioanUP2NJ",
        "outputId": "7d5080f5-c845-428c-bb69-d69ad590cb1c"
      },
      "execution_count": 69,
      "outputs": [
        {
          "output_type": "execute_result",
          "data": {
            "text/plain": [
              "(2516, 7)"
            ]
          },
          "metadata": {},
          "execution_count": 69
        }
      ]
    },
    {
      "cell_type": "code",
      "source": [
        "df.head()"
      ],
      "metadata": {
        "colab": {
          "base_uri": "https://localhost:8080/",
          "height": 206
        },
        "id": "_nXt3M-RJkrl",
        "outputId": "7a880264-fdb3-48fb-fd61-49718ea9a2c1"
      },
      "execution_count": 70,
      "outputs": [
        {
          "output_type": "execute_result",
          "data": {
            "text/html": [
              "\n",
              "  <div id=\"df-8d2708a9-0423-4aac-ba60-a53633d3d7a3\">\n",
              "    <div class=\"colab-df-container\">\n",
              "      <div>\n",
              "<style scoped>\n",
              "    .dataframe tbody tr th:only-of-type {\n",
              "        vertical-align: middle;\n",
              "    }\n",
              "\n",
              "    .dataframe tbody tr th {\n",
              "        vertical-align: top;\n",
              "    }\n",
              "\n",
              "    .dataframe thead th {\n",
              "        text-align: right;\n",
              "    }\n",
              "</style>\n",
              "<table border=\"1\" class=\"dataframe\">\n",
              "  <thead>\n",
              "    <tr style=\"text-align: right;\">\n",
              "      <th></th>\n",
              "      <th>Date</th>\n",
              "      <th>Open</th>\n",
              "      <th>High</th>\n",
              "      <th>Low</th>\n",
              "      <th>Close</th>\n",
              "      <th>Adj Close</th>\n",
              "      <th>Volume</th>\n",
              "    </tr>\n",
              "  </thead>\n",
              "  <tbody>\n",
              "    <tr>\n",
              "      <th>0</th>\n",
              "      <td>2012-01-03</td>\n",
              "      <td>14.621429</td>\n",
              "      <td>14.732143</td>\n",
              "      <td>14.607143</td>\n",
              "      <td>14.686786</td>\n",
              "      <td>12.575915</td>\n",
              "      <td>302220800</td>\n",
              "    </tr>\n",
              "    <tr>\n",
              "      <th>1</th>\n",
              "      <td>2012-01-04</td>\n",
              "      <td>14.642857</td>\n",
              "      <td>14.810000</td>\n",
              "      <td>14.617143</td>\n",
              "      <td>14.765714</td>\n",
              "      <td>12.643500</td>\n",
              "      <td>260022000</td>\n",
              "    </tr>\n",
              "    <tr>\n",
              "      <th>2</th>\n",
              "      <td>2012-01-05</td>\n",
              "      <td>14.819643</td>\n",
              "      <td>14.948214</td>\n",
              "      <td>14.738214</td>\n",
              "      <td>14.929643</td>\n",
              "      <td>12.783868</td>\n",
              "      <td>271269600</td>\n",
              "    </tr>\n",
              "    <tr>\n",
              "      <th>3</th>\n",
              "      <td>2012-01-06</td>\n",
              "      <td>14.991786</td>\n",
              "      <td>15.098214</td>\n",
              "      <td>14.972143</td>\n",
              "      <td>15.085714</td>\n",
              "      <td>12.917507</td>\n",
              "      <td>318292800</td>\n",
              "    </tr>\n",
              "    <tr>\n",
              "      <th>4</th>\n",
              "      <td>2012-01-09</td>\n",
              "      <td>15.196429</td>\n",
              "      <td>15.276786</td>\n",
              "      <td>15.048214</td>\n",
              "      <td>15.061786</td>\n",
              "      <td>12.897018</td>\n",
              "      <td>394024400</td>\n",
              "    </tr>\n",
              "  </tbody>\n",
              "</table>\n",
              "</div>\n",
              "      <button class=\"colab-df-convert\" onclick=\"convertToInteractive('df-8d2708a9-0423-4aac-ba60-a53633d3d7a3')\"\n",
              "              title=\"Convert this dataframe to an interactive table.\"\n",
              "              style=\"display:none;\">\n",
              "        \n",
              "  <svg xmlns=\"http://www.w3.org/2000/svg\" height=\"24px\"viewBox=\"0 0 24 24\"\n",
              "       width=\"24px\">\n",
              "    <path d=\"M0 0h24v24H0V0z\" fill=\"none\"/>\n",
              "    <path d=\"M18.56 5.44l.94 2.06.94-2.06 2.06-.94-2.06-.94-.94-2.06-.94 2.06-2.06.94zm-11 1L8.5 8.5l.94-2.06 2.06-.94-2.06-.94L8.5 2.5l-.94 2.06-2.06.94zm10 10l.94 2.06.94-2.06 2.06-.94-2.06-.94-.94-2.06-.94 2.06-2.06.94z\"/><path d=\"M17.41 7.96l-1.37-1.37c-.4-.4-.92-.59-1.43-.59-.52 0-1.04.2-1.43.59L10.3 9.45l-7.72 7.72c-.78.78-.78 2.05 0 2.83L4 21.41c.39.39.9.59 1.41.59.51 0 1.02-.2 1.41-.59l7.78-7.78 2.81-2.81c.8-.78.8-2.07 0-2.86zM5.41 20L4 18.59l7.72-7.72 1.47 1.35L5.41 20z\"/>\n",
              "  </svg>\n",
              "      </button>\n",
              "      \n",
              "  <style>\n",
              "    .colab-df-container {\n",
              "      display:flex;\n",
              "      flex-wrap:wrap;\n",
              "      gap: 12px;\n",
              "    }\n",
              "\n",
              "    .colab-df-convert {\n",
              "      background-color: #E8F0FE;\n",
              "      border: none;\n",
              "      border-radius: 50%;\n",
              "      cursor: pointer;\n",
              "      display: none;\n",
              "      fill: #1967D2;\n",
              "      height: 32px;\n",
              "      padding: 0 0 0 0;\n",
              "      width: 32px;\n",
              "    }\n",
              "\n",
              "    .colab-df-convert:hover {\n",
              "      background-color: #E2EBFA;\n",
              "      box-shadow: 0px 1px 2px rgba(60, 64, 67, 0.3), 0px 1px 3px 1px rgba(60, 64, 67, 0.15);\n",
              "      fill: #174EA6;\n",
              "    }\n",
              "\n",
              "    [theme=dark] .colab-df-convert {\n",
              "      background-color: #3B4455;\n",
              "      fill: #D2E3FC;\n",
              "    }\n",
              "\n",
              "    [theme=dark] .colab-df-convert:hover {\n",
              "      background-color: #434B5C;\n",
              "      box-shadow: 0px 1px 3px 1px rgba(0, 0, 0, 0.15);\n",
              "      filter: drop-shadow(0px 1px 2px rgba(0, 0, 0, 0.3));\n",
              "      fill: #FFFFFF;\n",
              "    }\n",
              "  </style>\n",
              "\n",
              "      <script>\n",
              "        const buttonEl =\n",
              "          document.querySelector('#df-8d2708a9-0423-4aac-ba60-a53633d3d7a3 button.colab-df-convert');\n",
              "        buttonEl.style.display =\n",
              "          google.colab.kernel.accessAllowed ? 'block' : 'none';\n",
              "\n",
              "        async function convertToInteractive(key) {\n",
              "          const element = document.querySelector('#df-8d2708a9-0423-4aac-ba60-a53633d3d7a3');\n",
              "          const dataTable =\n",
              "            await google.colab.kernel.invokeFunction('convertToInteractive',\n",
              "                                                     [key], {});\n",
              "          if (!dataTable) return;\n",
              "\n",
              "          const docLinkHtml = 'Like what you see? Visit the ' +\n",
              "            '<a target=\"_blank\" href=https://colab.research.google.com/notebooks/data_table.ipynb>data table notebook</a>'\n",
              "            + ' to learn more about interactive tables.';\n",
              "          element.innerHTML = '';\n",
              "          dataTable['output_type'] = 'display_data';\n",
              "          await google.colab.output.renderOutput(dataTable, element);\n",
              "          const docLink = document.createElement('div');\n",
              "          docLink.innerHTML = docLinkHtml;\n",
              "          element.appendChild(docLink);\n",
              "        }\n",
              "      </script>\n",
              "    </div>\n",
              "  </div>\n",
              "  "
            ],
            "text/plain": [
              "         Date       Open       High        Low      Close  Adj Close     Volume\n",
              "0  2012-01-03  14.621429  14.732143  14.607143  14.686786  12.575915  302220800\n",
              "1  2012-01-04  14.642857  14.810000  14.617143  14.765714  12.643500  260022000\n",
              "2  2012-01-05  14.819643  14.948214  14.738214  14.929643  12.783868  271269600\n",
              "3  2012-01-06  14.991786  15.098214  14.972143  15.085714  12.917507  318292800\n",
              "4  2012-01-09  15.196429  15.276786  15.048214  15.061786  12.897018  394024400"
            ]
          },
          "metadata": {},
          "execution_count": 70
        }
      ]
    },
    {
      "cell_type": "code",
      "source": [
        "\n",
        "\n",
        "\n",
        "plt.rcParams[\"figure.figsize\"] = [16, 8]\n",
        "plt.rcParams[\"figure.autolayout\"] = True\n",
        "\n",
        "dates = df['Date']\n",
        "x_values = [dt.strptime(d, \"%Y-%m-%d\").date() for d in dates]\n",
        "y_values = df['Close']\n",
        "fig, ax = plt.subplots()\n",
        "ax.plot(x_values, y_values)\n",
        "# Rotate and align the tick labels so they look better.\n",
        "\n",
        "fig.autofmt_xdate()\n",
        "# Use a more precise date string for the x axis locations in the toolbar.\n",
        "ax.fmt_xdata = mdates.DateFormatter('%Y-%m-%d')\n",
        "ax.set_title('Stock Closing price')\n",
        "ax.set_xlabel('Date',fontsize=16)\n",
        "ax.set_ylabel('Stock price in USD ($)',fontsize=16)\n",
        "\n",
        "plt.show()\n"
      ],
      "metadata": {
        "colab": {
          "base_uri": "https://localhost:8080/",
          "height": 577
        },
        "id": "DvrrdHrrSgjK",
        "outputId": "c6c978b4-713a-45ea-e6c2-82541e37fb09"
      },
      "execution_count": 71,
      "outputs": [
        {
          "output_type": "display_data",
          "data": {
            "image/png": "[encoded data removed]",
            "text/plain": [
              "<Figure size 1152x576 with 1 Axes>"
            ]
          },
          "metadata": {}
        }
      ]
    },
    {
      "cell_type": "code",
      "source": [
        "# Df colum only contains close prime\n",
        "Data = df.filter(['Close'])\n",
        "#Convert the data frame to numpy array\n",
        "Data_frame = Data.values\n",
        "Training_length = int(len(Data_frame)*0.8)"
      ],
      "metadata": {
        "id": "semtiQHGkt_9"
      },
      "execution_count": 74,
      "outputs": []
    },
    {
      "cell_type": "code",
      "source": [
        "from matplotlib.cm import ScalarMappable\n",
        "#scaling Preprocessing Normalizing to 0-1\n",
        "Scaling = MinMaxScaler(feature_range=(0,1))\n",
        "scaled_data = Scaling.fit_transform(Data_frame)\n",
        "scaled_data"
      ],
      "metadata": {
        "colab": {
          "base_uri": "https://localhost:8080/"
        },
        "id": "NPj8rrmDqeSy",
        "outputId": "2205c37d-2596-4748-ab63-4a9d132e92c3"
      },
      "execution_count": 77,
      "outputs": [
        {
          "output_type": "execute_result",
          "data": {
            "text/plain": [
              "array([[0.00444329],\n",
              "       [0.00491767],\n",
              "       [0.00590292],\n",
              "       ...,\n",
              "       [0.99374929],\n",
              "       [0.99429028],\n",
              "       [0.98719814]])"
            ]
          },
          "metadata": {},
          "execution_count": 77
        }
      ]
    },
    {
      "cell_type": "code",
      "source": [
        "# Splitting Training and testing data set\n",
        "Train_dataset = scaled_data[0:Training_length,:]\n",
        "Testing_dataset = scaled_data [Training_length-60:,:]\n",
        "x_train=[]\n",
        "y_train=[]\n",
        "for i in range (60,len(Train_dataset)):\n",
        "  x_train.append(Train_dataset[i-60:i,0])\n",
        "  y_train.append(Train_dataset[i])\n",
        "  if i<=61:\n",
        "    print(x_train)\n",
        "    print(y_train)\n",
        "    print()\n"
      ],
      "metadata": {
        "colab": {
          "base_uri": "https://localhost:8080/"
        },
        "id": "3ZDT_XuVgV3S",
        "outputId": "0cdc8a37-0f48-49f6-95c3-08f55c105e48"
      },
      "execution_count": 103,
      "outputs": [
        {
          "output_type": "stream",
          "name": "stdout",
          "text": [
            "[array([0.00444329, 0.00491767, 0.00590292, 0.00684095, 0.00669713,\n",
            "       0.00702126, 0.00687314, 0.00662415, 0.006285  , 0.00733465,\n",
            "       0.00828126, 0.00798934, 0.00639018, 0.00791636, 0.00641379,\n",
            "       0.0120484 , 0.01161266, 0.01218149, 0.01341143, 0.01415627,\n",
            "       0.01409403, 0.01386435, 0.01484317, 0.01576401, 0.01680723,\n",
            "       0.01849225, 0.02203185, 0.02208551, 0.02405602, 0.02552853,\n",
            "       0.02299779, 0.0239723 , 0.02395299, 0.0266855 , 0.02629698,\n",
            "       0.02701606, 0.02830826, 0.02902735, 0.03109874, 0.03260773,\n",
            "       0.03304347, 0.03319589, 0.03061578, 0.02999328, 0.03008559,\n",
            "       0.03251115, 0.03319374, 0.03465982, 0.0381157 , 0.04272642,\n",
            "       0.04186352, 0.04186566, 0.04519921, 0.04624242, 0.04549972,\n",
            "       0.04482143, 0.04411522, 0.04646135, 0.04807125, 0.04874526])]\n",
            "[array([0.04707955])]\n",
            "\n",
            "[array([0.00444329, 0.00491767, 0.00590292, 0.00684095, 0.00669713,\n",
            "       0.00702126, 0.00687314, 0.00662415, 0.006285  , 0.00733465,\n",
            "       0.00828126, 0.00798934, 0.00639018, 0.00791636, 0.00641379,\n",
            "       0.0120484 , 0.01161266, 0.01218149, 0.01341143, 0.01415627,\n",
            "       0.01409403, 0.01386435, 0.01484317, 0.01576401, 0.01680723,\n",
            "       0.01849225, 0.02203185, 0.02208551, 0.02405602, 0.02552853,\n",
            "       0.02299779, 0.0239723 , 0.02395299, 0.0266855 , 0.02629698,\n",
            "       0.02701606, 0.02830826, 0.02902735, 0.03109874, 0.03260773,\n",
            "       0.03304347, 0.03319589, 0.03061578, 0.02999328, 0.03008559,\n",
            "       0.03251115, 0.03319374, 0.03465982, 0.0381157 , 0.04272642,\n",
            "       0.04186352, 0.04186566, 0.04519921, 0.04624242, 0.04549972,\n",
            "       0.04482143, 0.04411522, 0.04646135, 0.04807125, 0.04874526]), array([0.00491767, 0.00590292, 0.00684095, 0.00669713, 0.00702126,\n",
            "       0.00687314, 0.00662415, 0.006285  , 0.00733465, 0.00828126,\n",
            "       0.00798934, 0.00639018, 0.00791636, 0.00641379, 0.0120484 ,\n",
            "       0.01161266, 0.01218149, 0.01341143, 0.01415627, 0.01409403,\n",
            "       0.01386435, 0.01484317, 0.01576401, 0.01680723, 0.01849225,\n",
            "       0.02203185, 0.02208551, 0.02405602, 0.02552853, 0.02299779,\n",
            "       0.0239723 , 0.02395299, 0.0266855 , 0.02629698, 0.02701606,\n",
            "       0.02830826, 0.02902735, 0.03109874, 0.03260773, 0.03304347,\n",
            "       0.03319589, 0.03061578, 0.02999328, 0.03008559, 0.03251115,\n",
            "       0.03319374, 0.03465982, 0.0381157 , 0.04272642, 0.04186352,\n",
            "       0.04186566, 0.04519921, 0.04624242, 0.04549972, 0.04482143,\n",
            "       0.04411522, 0.04646135, 0.04807125, 0.04874526, 0.04707955])]\n",
            "[array([0.04707955]), array([0.0448665])]\n",
            "\n"
          ]
        }
      ]
    },
    {
      "cell_type": "code",
      "source": [
        "#Convering into numpy array\n",
        "x_train,y_train = np.array(x_train),np.array(y_train)"
      ],
      "metadata": {
        "id": "rvrp640px28f"
      },
      "execution_count": 94,
      "outputs": []
    },
    {
      "cell_type": "code",
      "source": [
        "#Reshaping of data\n",
        "\n",
        "x_train = x_train.reshape(x_train.shape[0],x_train.shape[1],1)\n",
        "\n",
        "x_train.shape"
      ],
      "metadata": {
        "id": "5Y1lHJdzsioK"
      },
      "execution_count": null,
      "outputs": []
    },
    {
      "cell_type": "code",
      "source": [
        "# Creating model\n",
        "model = Sequential()\n",
        "model.add(LSTM(50,return_sequences=True,input_shape=(x_train.shape[1],x_train.shape[2])))\n",
        "model.add(LSTM(50,return_sequences=False))\n",
        "model.add(Dense(25))\n",
        "model.add(Dense(1))"
      ],
      "metadata": {
        "id": "hnB6tKNQyVZz"
      },
      "execution_count": 100,
      "outputs": []
    },
    {
      "cell_type": "code",
      "source": [
        "model.compile (optimizer='adam',loss='mean_squared_error')"
      ],
      "metadata": {
        "id": "zOPLny0N1KM4"
      },
      "execution_count": 101,
      "outputs": []
    },
    {
      "cell_type": "code",
      "source": [
        "model.fit(x_train,y_train,batch_size=1,epochs=1)"
      ],
      "metadata": {
        "colab": {
          "base_uri": "https://localhost:8080/"
        },
        "id": "H966uHbC1_yG",
        "outputId": "f19656a6-91e7-43ba-f957-dcf89f86dad5"
      },
      "execution_count": 102,
      "outputs": [
        {
          "output_type": "stream",
          "name": "stdout",
          "text": [
            "1952/1952 [==============================] - 44s 21ms/step - loss: 1.6139e-04\n"
          ]
        },
        {
          "output_type": "execute_result",
          "data": {
            "text/plain": [
              "<keras.callbacks.History at 0x7f0d7b8defd0>"
            ]
          },
          "metadata": {},
          "execution_count": 102
        }
      ]
    },
    {
      "cell_type": "code",
      "source": [
        "# Splitting Training and testing data set\n",
        "Train_dataset = scaled_data[0:Training_length,:]\n",
        "Testing_dataset = scaled_data [Training_length-60:,:]\n",
        "x_test=[]\n",
        "y_test=scaled_data[Training_length:,:]\n",
        "for i in range (60,len(Testing_dataset)):\n",
        "  x_test.append(Testing_dataset[i-60:i,0])\n",
        "  "
      ],
      "metadata": {
        "id": "P33w0ZEB2aqy"
      },
      "execution_count": 105,
      "outputs": []
    },
    {
      "cell_type": "code",
      "source": [
        "#Converting into numpy\n",
        "x_test,y_test = np.array(x_test),np.array(y_test)\n",
        "x_test = x_test.reshape(x_test.shape[0],x_test.shape[1],1)\n",
        "\n",
        "x_test.shape\n"
      ],
      "metadata": {
        "colab": {
          "base_uri": "https://localhost:8080/"
        },
        "id": "ahSrN3YN4yVj",
        "outputId": "2ff757f1-6fa7-4980-f1e8-e90c5ceff7eb"
      },
      "execution_count": 108,
      "outputs": [
        {
          "output_type": "execute_result",
          "data": {
            "text/plain": [
              "(504, 60, 1)"
            ]
          },
          "metadata": {},
          "execution_count": 108
        }
      ]
    },
    {
      "cell_type": "code",
      "source": [
        "prediction = model.predict(x_test)\n",
        "prediction = Scaling.inverse_transform(prediction)\n"
      ],
      "metadata": {
        "id": "bB9NJ6iz3Ihv"
      },
      "execution_count": 112,
      "outputs": []
    },
    {
      "cell_type": "code",
      "source": [
        "data = df\n",
        "train_data = data[0:Training_length]\n",
        "Valid = data[Training_length:]\n",
        "Valid['Prediction']=prediction\n",
        "\n"
      ],
      "metadata": {
        "colab": {
          "base_uri": "https://localhost:8080/"
        },
        "id": "h0Ri1DRq4vMv",
        "outputId": "93c2263e-c47f-4ace-a8bb-b6618ee331bc"
      },
      "execution_count": 115,
      "outputs": [
        {
          "output_type": "stream",
          "name": "stderr",
          "text": [
            "/usr/local/lib/python3.7/dist-packages/ipykernel_launcher.py:4: SettingWithCopyWarning: \n",
            "A value is trying to be set on a copy of a slice from a DataFrame.\n",
            "Try using .loc[row_indexer,col_indexer] = value instead\n",
            "\n",
            "See the caveats in the documentation: https://pandas.pydata.org/pandas-docs/stable/user_guide/indexing.html#returning-a-view-versus-a-copy\n",
            "  after removing the cwd from sys.path.\n"
          ]
        }
      ]
    },
    {
      "cell_type": "code",
      "source": [
        "plt.rcParams[\"figure.figsize\"] = [16, 8]\n",
        "plt.rcParams[\"figure.autolayout\"] = True\n",
        "\n",
        "dates = train_data['Date']\n",
        "x_values = [dt.strptime(d, \"%Y-%m-%d\").date() for d in dates]\n",
        "y_values = train_data['Close']\n",
        "fig, ax = plt.subplots()\n",
        "ax.plot(x_values, y_values)\n",
        "# Rotate and align the tick labels so they look better.\n",
        "dates = Valid['Date']\n",
        "x_values = [dt.strptime(d, \"%Y-%m-%d\").date() for d in dates]\n",
        "y_values = Valid['Close']\n",
        "\n",
        "\n",
        "ax.plot(x_values, y_values)\n",
        "\n",
        "\n",
        "dates = Valid['Date']\n",
        "x_values = [dt.strptime(d, \"%Y-%m-%d\").date() for d in dates]\n",
        "y_values = Valid['Prediction']\n",
        "\n",
        "\n",
        "ax.plot(x_values, y_values)\n",
        "\n",
        "fig.autofmt_xdate()\n",
        "\n",
        "\n",
        "# Use a more precise date string for the x axis locations in the toolbar.\n",
        "ax.fmt_xdata = mdates.DateFormatter('%Y-%m-%d')\n",
        "ax.set_title('Stock Closing price')\n",
        "ax.set_xlabel('Date',fontsize=16)\n",
        "ax.set_ylabel('Stock price in USD ($)',fontsize=16)\n",
        "plt.legend(['Train','Val','Predicted'],loc='lower right')\n",
        "plt.show()\n"
      ],
      "metadata": {
        "colab": {
          "base_uri": "https://localhost:8080/",
          "height": 577
        },
        "id": "ZoMfpOFI9g7y",
        "outputId": "1f543a7a-6b13-47d3-bd24-9a3697dfe35b"
      },
      "execution_count": 116,
      "outputs": [
        {
          "output_type": "display_data",
          "data": {
            "image/png": "[encoded data removed]",
            "text/plain": [
              "<Figure size 1152x576 with 1 Axes>"
            ]
          },
          "metadata": {}
        }
      ]
    },
    {
      "cell_type": "code",
      "source": [
        ""
      ],
      "metadata": {
        "id": "S9nuGKBk-xIP"
      },
      "execution_count": null,
      "outputs": []
    }
  ]
}